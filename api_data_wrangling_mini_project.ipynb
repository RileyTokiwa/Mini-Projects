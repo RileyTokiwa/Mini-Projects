{
 "cells": [
  {
   "cell_type": "markdown",
   "metadata": {},
   "source": [
    "This exercise will require you to pull some data from the Qunadl API. Qaundl is currently the most widely used aggregator of financial market data."
   ]
  },
  {
   "cell_type": "markdown",
   "metadata": {},
   "source": [
    "As a first step, you will need to register a free account on the http://www.quandl.com website."
   ]
  },
  {
   "cell_type": "markdown",
   "metadata": {},
   "source": [
    "After you register, you will be provided with a unique API key, that you should store:"
   ]
  },
  {
   "cell_type": "code",
   "execution_count": null,
   "metadata": {
    "collapsed": true
   },
   "outputs": [],
   "source": [
    "# Store the API key as a string - according to PEP8, constants are always named in all upper case\n",
    "API_KEY = '4cRB3856pnp1CWmH22or'"
   ]
  },
  {
   "cell_type": "markdown",
   "metadata": {},
   "source": [
    "Qaundl has a large number of data sources, but, unfortunately, most of them require a Premium subscription. Still, there are also a good number of free datasets."
   ]
  },
  {
   "cell_type": "markdown",
   "metadata": {},
   "source": [
    "For this mini project, we will focus on equities data from the Frankfurt Stock Exhange (FSE), which is available for free. We'll try and analyze the stock prices of a company called Carl Zeiss Meditec, which manufactures tools for eye examinations, as well as medical lasers for laser eye surgery: https://www.zeiss.com/meditec/int/home.html. The company is listed under the stock ticker AFX_X."
   ]
  },
  {
   "cell_type": "markdown",
   "metadata": {},
   "source": [
    "You can find the detailed Quandl API instructions here: https://docs.quandl.com/docs/time-series"
   ]
  },
  {
   "cell_type": "markdown",
   "metadata": {},
   "source": [
    "While there is a dedicated Python package for connecting to the Quandl API, we would prefer that you use the *requests* package, which can be easily downloaded using *pip* or *conda*. You can find the documentation for the package here: http://docs.python-requests.org/en/master/ "
   ]
  },
  {
   "cell_type": "markdown",
   "metadata": {},
   "source": [
    "Finally, apart from the *requests* package, you are encouraged to not use any third party Python packages, such as *pandas*, and instead focus on what's available in the Python Standard Library (the *collections* module might come in handy: https://pymotw.com/3/collections/ ).\n",
    "Also, since you won't have access to DataFrames, you are encouraged to us Python's native data structures - preferably dictionaries, though some questions can also be answered using lists.\n",
    "You can read more on these data structures here: https://docs.python.org/3/tutorial/datastructures.html"
   ]
  },
  {
   "cell_type": "markdown",
   "metadata": {},
   "source": [
    "Keep in mind that the JSON responses you will be getting from the API map almost one-to-one to Python's dictionaries. Unfortunately, they can be very nested, so make sure you read up on indexing dictionaries in the documentation provided above."
   ]
  },
  {
   "cell_type": "code",
   "execution_count": 3,
   "metadata": {},
   "outputs": [],
   "source": [
    "# First, import the relevant modules\n",
    "import requests\n",
    "import quandl"
   ]
  },
  {
   "cell_type": "code",
   "execution_count": 13,
   "metadata": {},
   "outputs": [],
   "source": [
    "# Now, call the Quandl API and pull out a small sample of the data (only one day) to get a glimpse\n",
    "# into the JSON structure that will be returned\n",
    "data = quandl.get(\"FSE/AFX_X\", start_date=\"2001-12-30\", end_date=\"2005-12-31\")"
   ]
  },
  {
   "cell_type": "code",
   "execution_count": 14,
   "metadata": {},
   "outputs": [
    {
     "name": "stdout",
     "output_type": "stream",
     "text": [
      "             Open   High    Low  Close Change  Traded Volume  Turnover  \\\n",
      "Date                                                                     \n",
      "2001-12-31    NaN    NaN    NaN   9.00   None            0.0       NaN   \n",
      "2002-01-01    NaN    NaN    NaN   9.00   None            0.0       NaN   \n",
      "2002-01-02   9.00   9.13   8.90   9.06   None            0.0       NaN   \n",
      "2002-01-03   9.10  10.00   9.10  10.00   None            0.0       NaN   \n",
      "2002-01-04  10.09  11.31  10.09  10.25   None            0.0       NaN   \n",
      "\n",
      "           Last Price of the Day Daily Traded Units  Daily Turnover  \n",
      "Date                                                                 \n",
      "2001-12-31                  None               None             0.0  \n",
      "2002-01-01                  None               None             0.0  \n",
      "2002-01-02                  None               None             0.0  \n",
      "2002-01-03                  None               None             0.0  \n",
      "2002-01-04                  None               None             0.0  \n"
     ]
    }
   ],
   "source": [
    "# Inspect the JSON structure of the object you created, and take note of how nested it is,\n",
    "# as well as the overall structure\n",
    "print(data.head())"
   ]
  },
  {
   "cell_type": "markdown",
   "metadata": {},
   "source": [
    "These are your tasks for this mini project:\n",
    "\n",
    "1. Collect data from the Franfurt Stock Exchange, for the ticker AFX_X, for the whole year 2017 (keep in mind that the date format is YYYY-MM-DD).\n",
    "2. Convert the returned JSON object into a Python dictionary.\n",
    "3. Calculate what the highest and lowest opening prices were for the stock in this period.\n",
    "4. What was the largest change in any one day (based on High and Low price)?\n",
    "5. What was the largest change between any two days (based on Closing Price)?\n",
    "6. What was the average daily trading volume during this year?\n",
    "7. (Optional) What was the median trading volume during this year. (Note: you may need to implement your own function for calculating the median.)"
   ]
  },
  {
   "cell_type": "code",
   "execution_count": 15,
   "metadata": {},
   "outputs": [],
   "source": [
    "year_2017 = quandl.get(\"FSE/AFX_X\", start_date=\"2017-01-01\", end_date=\"2017-12-31\")"
   ]
  },
  {
   "cell_type": "code",
   "execution_count": 54,
   "metadata": {},
   "outputs": [],
   "source": [
    "year_2017_dict = year_2017.T.to_dict()"
   ]
  },
  {
   "cell_type": "code",
   "execution_count": 67,
   "metadata": {},
   "outputs": [
    {
     "name": "stdout",
     "output_type": "stream",
     "text": [
      "53.54 33.62\n"
     ]
    }
   ],
   "source": [
    "highest = 0\n",
    "lowest = 1000\n",
    "\n",
    "for item in year_2017_dict.keys():\n",
    "    if year_2017_dict[item]['High'] > highest:\n",
    "        highest = year_2017_dict[item]['High']\n",
    "    if year_2017_dict[item]['Low'] < lowest:\n",
    "        lowest = year_2017_dict[item]['Low']\n",
    "\n",
    "print(highest, lowest)\n"
   ]
  },
  {
   "cell_type": "code",
   "execution_count": 68,
   "metadata": {},
   "outputs": [
    {
     "name": "stdout",
     "output_type": "stream",
     "text": [
      "2.8100000000000023\n"
     ]
    }
   ],
   "source": [
    "change = 0\n",
    "\n",
    "for item in year_2017_dict.keys():\n",
    "    if abs(year_2017_dict[item]['High'] - year_2017_dict[item]['Low']) > change:\n",
    "        change = abs(year_2017_dict[item]['High'] - year_2017_dict[item]['Low'])\n",
    "    \n",
    "print(change)"
   ]
  },
  {
   "cell_type": "code",
   "execution_count": 88,
   "metadata": {},
   "outputs": [
    {
     "name": "stdout",
     "output_type": "stream",
     "text": [
      "0.5300000000000011\n"
     ]
    },
    {
     "data": {
      "text/plain": [
       "\"for key in year_2017_dict.keys():\\n    print(year_2017_dict[key]['Open'], year_2017_dict[key]['Close'])\""
      ]
     },
     "execution_count": 88,
     "metadata": {},
     "output_type": "execute_result"
    }
   ],
   "source": [
    "two_day_change = 0\n",
    "rows = len(year_2017_dict.keys())\n",
    "keys_as_list = list(year_2017_dict.keys())\n",
    "\n",
    "for item in range(rows- 1):\n",
    "    if abs(year_2017_dict[keys_as_list[item]]['Close'] - year_2017_dict[keys_as_list[item + 1]]['Open']) > two_day_change:\n",
    "        two_day_change = abs(year_2017_dict[keys_as_list[item]]['Close'] - year_2017_dict[keys_as_list[item]]['Open'])\n",
    "    \n",
    "print(two_day_change)\n",
    "\n",
    "\"\"\"for key in year_2017_dict.keys():\n",
    "    print(year_2017_dict[key]['Open'], year_2017_dict[key]['Close'])\"\"\""
   ]
  },
  {
   "cell_type": "code",
   "execution_count": 91,
   "metadata": {},
   "outputs": [
    {
     "name": "stdout",
     "output_type": "stream",
     "text": [
      "89124.33725490196\n"
     ]
    }
   ],
   "source": [
    "mean = 0\n",
    "\n",
    "for item in year_2017_dict.keys():\n",
    "    mean += year_2017_dict[item]['Traded Volume']\n",
    "    \n",
    "print(mean/len(year_2017_dict.keys()))"
   ]
  },
  {
   "cell_type": "code",
   "execution_count": null,
   "metadata": {},
   "outputs": [],
   "source": []
  }
 ],
 "metadata": {
  "kernelspec": {
   "display_name": "Python 3",
   "language": "python",
   "name": "python3"
  },
  "language_info": {
   "codemirror_mode": {
    "name": "ipython",
    "version": 3
   },
   "file_extension": ".py",
   "mimetype": "text/x-python",
   "name": "python",
   "nbconvert_exporter": "python",
   "pygments_lexer": "ipython3",
   "version": "3.9.5"
  }
 },
 "nbformat": 4,
 "nbformat_minor": 2
}
